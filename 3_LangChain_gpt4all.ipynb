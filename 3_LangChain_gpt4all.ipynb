{
 "cells": [
  {
   "cell_type": "markdown",
   "metadata": {},
   "source": [
    "# LangChain + GPT4All\n",
    "This example goes over how to use LangChain to interact with GPT4All models."
   ]
  },
  {
   "cell_type": "code",
   "execution_count": 1,
   "metadata": {},
   "outputs": [
    {
     "name": "stdout",
     "output_type": "stream",
     "text": [
      "Looking in indexes: https://pypi.org/simple, https://pypi.ngc.nvidia.com\n",
      "Requirement already satisfied: gpt4all in c:\\users\\otols\\desktop\\dev\\promptengineering\\venv\\lib\\site-packages (1.0.12)\n",
      "Requirement already satisfied: tqdm in c:\\users\\otols\\desktop\\dev\\promptengineering\\venv\\lib\\site-packages (from gpt4all) (4.66.1)\n",
      "Requirement already satisfied: requests in c:\\users\\otols\\desktop\\dev\\promptengineering\\venv\\lib\\site-packages (from gpt4all) (2.31.0)\n",
      "Requirement already satisfied: urllib3<3,>=1.21.1 in c:\\users\\otols\\desktop\\dev\\promptengineering\\venv\\lib\\site-packages (from requests->gpt4all) (2.0.5)\n",
      "Requirement already satisfied: charset-normalizer<4,>=2 in c:\\users\\otols\\desktop\\dev\\promptengineering\\venv\\lib\\site-packages (from requests->gpt4all) (3.2.0)\n",
      "Requirement already satisfied: idna<4,>=2.5 in c:\\users\\otols\\desktop\\dev\\promptengineering\\venv\\lib\\site-packages (from requests->gpt4all) (3.4)\n",
      "Requirement already satisfied: certifi>=2017.4.17 in c:\\users\\otols\\desktop\\dev\\promptengineering\\venv\\lib\\site-packages (from requests->gpt4all) (2023.7.22)\n",
      "Requirement already satisfied: colorama in c:\\users\\otols\\desktop\\dev\\promptengineering\\venv\\lib\\site-packages (from tqdm->gpt4all) (0.4.6)\n",
      "Note: you may need to restart the kernel to use updated packages.\n"
     ]
    },
    {
     "name": "stderr",
     "output_type": "stream",
     "text": [
      "WARNING: You are using pip version 22.0.4; however, version 23.2.1 is available.\n",
      "You should consider upgrading via the 'c:\\Users\\otols\\Desktop\\dev\\PromptEngineering\\venv\\Scripts\\python.exe -m pip install --upgrade pip' command.\n"
     ]
    }
   ],
   "source": [
    "%pip install gpt4all"
   ]
  },
  {
   "cell_type": "code",
   "execution_count": 2,
   "metadata": {},
   "outputs": [],
   "source": [
    "from langchain.prompts import PromptTemplate\n",
    "from langchain.chains import LLMChain\n",
    "from langchain.llms import GPT4All\n",
    "from langchain.callbacks.streaming_stdout import StreamingStdOutCallbackHandler"
   ]
  },
  {
   "cell_type": "markdown",
   "metadata": {},
   "source": [
    "# Specify Model"
   ]
  },
  {
   "cell_type": "code",
   "execution_count": 6,
   "metadata": {},
   "outputs": [
    {
     "name": "stdout",
     "output_type": "stream",
     "text": [
      "Found model file at  ./models/orca-mini-7b.ggmlv3.q4_0.bin\n"
     ]
    }
   ],
   "source": [
    "local_path = (\n",
    "    \"./models/orca-mini-7b.ggmlv3.q4_0.bin\"  \n",
    ")\n",
    "\n",
    "llm = GPT4All(model=local_path)"
   ]
  },
  {
   "cell_type": "markdown",
   "metadata": {},
   "source": [
    "# Prompt"
   ]
  },
  {
   "cell_type": "code",
   "execution_count": 8,
   "metadata": {},
   "outputs": [
    {
     "data": {
      "text/plain": [
       "' Justin Bieber was born on March 1, 1994. The first Super Bowl was played on January 15, 1967. So, if we subtract 1967 from 1994, we get the year in which Justin Bieber was not yet born: 1968. Therefore, the NFL team that won the Super Bowl in the year Justin Bieber was born is the Miami Dolphins, who won the Super Bowl in 1968.'"
      ]
     },
     "execution_count": 8,
     "metadata": {},
     "output_type": "execute_result"
    }
   ],
   "source": [
    "template = \"\"\"Question: {question}\n",
    "Answer: Let's think step by step.\"\"\"\n",
    "\n",
    "prompt = PromptTemplate(template=template, input_variables=[\"question\"])\n",
    "\n",
    "llm_chain = LLMChain(prompt=prompt, llm=llm)\n",
    "\n",
    "question = \"What NFL team won the Super Bowl in the year Justin Bieber was born?\"\n",
    "\n",
    "llm_chain.run(question)"
   ]
  }
 ],
 "metadata": {
  "kernelspec": {
   "display_name": "venv",
   "language": "python",
   "name": "python3"
  },
  "language_info": {
   "codemirror_mode": {
    "name": "ipython",
    "version": 3
   },
   "file_extension": ".py",
   "mimetype": "text/x-python",
   "name": "python",
   "nbconvert_exporter": "python",
   "pygments_lexer": "ipython3",
   "version": "3.9.13"
  },
  "orig_nbformat": 4
 },
 "nbformat": 4,
 "nbformat_minor": 2
}
