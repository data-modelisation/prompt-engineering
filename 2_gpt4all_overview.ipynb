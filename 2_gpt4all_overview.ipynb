{
 "cells": [
  {
   "cell_type": "markdown",
   "metadata": {},
   "source": [
    "# GPT4All Overview \n",
    "\n",
    "[GPT4All](https://github.com/nomic-ai/gpt4all) is an ecosystem to train and deploy powerful and customized large language models that run locally on consumer grade CPUs. However it is less perfomant than chatGPT and the answers could be not enough precised. It was created by `Nomic AI`. \n",
    "\n",
    "Using with Python:\n",
    "\n",
    "* [docs.gpt4all.io](https://docs.gpt4all.io/gpt4all_python.html)\n",
    "* [github](https://github.com/nomic-ai/gpt4all/blob/main/gpt4all-bindings/python/README.md)"
   ]
  },
  {
   "cell_type": "code",
   "execution_count": 2,
   "metadata": {},
   "outputs": [
    {
     "name": "stdout",
     "output_type": "stream",
     "text": [
      "Looking in indexes: https://pypi.org/simple, https://pypi.ngc.nvidia.com\n",
      "Requirement already satisfied: gpt4all in c:\\users\\otols\\desktop\\dev\\promptengineering\\venv\\lib\\site-packages (1.0.12)\n",
      "Requirement already satisfied: requests in c:\\users\\otols\\desktop\\dev\\promptengineering\\venv\\lib\\site-packages (from gpt4all) (2.31.0)\n",
      "Requirement already satisfied: tqdm in c:\\users\\otols\\desktop\\dev\\promptengineering\\venv\\lib\\site-packages (from gpt4all) (4.66.1)\n",
      "Requirement already satisfied: idna<4,>=2.5 in c:\\users\\otols\\desktop\\dev\\promptengineering\\venv\\lib\\site-packages (from requests->gpt4all) (3.4)\n",
      "Requirement already satisfied: urllib3<3,>=1.21.1 in c:\\users\\otols\\desktop\\dev\\promptengineering\\venv\\lib\\site-packages (from requests->gpt4all) (2.0.5)\n",
      "Requirement already satisfied: charset-normalizer<4,>=2 in c:\\users\\otols\\desktop\\dev\\promptengineering\\venv\\lib\\site-packages (from requests->gpt4all) (3.2.0)\n",
      "Requirement already satisfied: certifi>=2017.4.17 in c:\\users\\otols\\desktop\\dev\\promptengineering\\venv\\lib\\site-packages (from requests->gpt4all) (2023.7.22)\n",
      "Requirement already satisfied: colorama in c:\\users\\otols\\desktop\\dev\\promptengineering\\venv\\lib\\site-packages (from tqdm->gpt4all) (0.4.6)\n",
      "Note: you may need to restart the kernel to use updated packages.\n"
     ]
    },
    {
     "name": "stderr",
     "output_type": "stream",
     "text": [
      "WARNING: You are using pip version 22.0.4; however, version 23.2.1 is available.\n",
      "You should consider upgrading via the 'c:\\Users\\otols\\Desktop\\dev\\PromptEngineering\\venv\\Scripts\\python.exe -m pip install --upgrade pip' command.\n"
     ]
    }
   ],
   "source": [
    "%pip install gpt4all"
   ]
  },
  {
   "cell_type": "code",
   "execution_count": 14,
   "metadata": {},
   "outputs": [
    {
     "name": "stdout",
     "output_type": "stream",
     "text": [
      "Found model file at  ./models\\\\orca-mini-3b.ggmlv3.q4_0.bin\n",
      "Found model file at  models\\\\orca-mini-7b.ggmlv3.q4_0.bin\n",
      "Found model file at  models\\\\llama-2-7b-chat.ggmlv3.q4_0.bin\n"
     ]
    }
   ],
   "source": [
    "import os\n",
    "import textwrap\n",
    "from gpt4all import GPT4All\n",
    "\n",
    "#name of the model\n",
    "orca_model3b_name= \"orca-mini-3b.ggmlv3.q4_0.bin\" # 3 billiard de parametres \n",
    "orca_model7b_name = \"orca-mini-7b.ggmlv3.q4_0.bin\"\n",
    "llama_model_name = \"llama-2-7b-chat.ggmlv3.q4_0.bin\"\n",
    "\n",
    "# initialization of the models\n",
    "orca_model3b = GPT4All(orca_model3b_name, model_path=\"models\")\n",
    "orca_model7b = GPT4All(orca_model7b_name, model_path=\"models\")\n",
    "llama_model  = GPT4All(llama_model_name,  model_path=\"models\")\n",
    "\n",
    "model = llama_model\n"
   ]
  },
  {
   "cell_type": "code",
   "execution_count": 12,
   "metadata": {},
   "outputs": [],
   "source": [
    "def generate_stream_text(prompt, model=orca_model7b, max_tokens = 150):\n",
    "    tokens = []\n",
    "    for token in model.generate(prompt, max_tokens=max_tokens, streaming=True, temp = 0):\n",
    "        tokens.append(token)\n",
    "\n",
    "    return tokens\n",
    "\n",
    "def wrapped_output(output, width=80):\n",
    "    wrapped_output = textwrap.fill(output, width=width)\n",
    "    print(f\"Output:\\n{wrapped_output}\")"
   ]
  },
  {
   "cell_type": "markdown",
   "metadata": {},
   "source": [
    "# Zero-Shot prompting"
   ]
  },
  {
   "cell_type": "code",
   "execution_count": 13,
   "metadata": {},
   "outputs": [
    {
     "name": "stdout",
     "output_type": "stream",
     "text": [
      "Output:\n",
      " Paris, which is known for its iconic landmarks such as the Eiffel Tower, Notre-\n",
      "Dame Cathedral, and the Louvre Museum. Unterscheidung between \"Paris\" and\n",
      "\"France\" is important because while Paris is a city within France, not all\n",
      "cities in France are part of Paris.  Here are some key differences between Paris\n",
      "and France:  1. Location: Paris is located in northern central France, while\n",
      "France is a country located in Western Europe. 2. Size: Paris is a relatively\n",
      "small city with a population of around 2 million people,\n"
     ]
    }
   ],
   "source": [
    "prompt = \"The capital of France is \"\n",
    "output = model.generate(prompt, max_tokens=120)\n",
    "\n",
    "# wrap output for better visibility\n",
    "wrapped_output(output)"
   ]
  },
  {
   "cell_type": "code",
   "execution_count": 19,
   "metadata": {},
   "outputs": [
    {
     "name": "stdout",
     "output_type": "stream",
     "text": [
      "Output:\n",
      " Berlin is the capital city of Germany and is located in the northern part of\n",
      "the country. It is situated on the banks of the Spree River, which flows through\n",
      "the city center. The city is surrounded by forests and hills, making it a\n",
      "beautiful place to live or visit. What is the weather like in Berlin? The\n",
      "weather in Berlin varies depending on the time of year. In general, Berlin has a\n",
      "temperate climate with mild winters and cool summers. During the winter months\n",
      "(December through February), temperatures can range from -5°C to 5°C\n"
     ]
    }
   ],
   "source": [
    "# Zero-Shot prompting\n",
    "prompt=\"Where is Berlin?\" #prompt is very waste \n",
    "output = orca_model7b.generate(prompt, max_tokens=120)\n",
    "wrapped_output(output)"
   ]
  },
  {
   "cell_type": "code",
   "execution_count": 20,
   "metadata": {},
   "outputs": [
    {
     "name": "stdout",
     "output_type": "stream",
     "text": [
      "Output:\n",
      "Partnership: A partnership is a business owned and operated by two or more\n",
      "individuals.\n"
     ]
    }
   ],
   "source": [
    "# Specifier des delimiters \n",
    "text = f\"\"\"\n",
    " Unterscheidung between the two main types of business structures in Germany:\n",
    "sole proprietorship and partnership. A sole proprietorship is a business owned\n",
    "and operated by one individual, while a partnership is a business owned and\n",
    "operated by two or more individuals. The key differences between these two types\n",
    "of businesses are their legal status, liability, taxation, and ownership\n",
    "structure.  Sole Proprietorship: A sole proprietorship is a business that is\n",
    "owned and operated by one individual.\n",
    "\"\"\"\n",
    "prompt = f\"\"\"\n",
    "Your task is to summarize the text into a single sentence.prompt\n",
    "\n",
    "Text:\n",
    "{text}\n",
    "\"\"\"\n",
    "output = model.generate(prompt, max_tokens=120)\n",
    "wrapped_output(output)"
   ]
  },
  {
   "cell_type": "markdown",
   "metadata": {},
   "source": [
    "### Specify the format of the output"
   ]
  },
  {
   "cell_type": "code",
   "execution_count": 13,
   "metadata": {},
   "outputs": [
    {
     "name": "stdout",
     "output_type": "stream",
     "text": [
      "\n",
      "Example:\n",
      "{\n",
      " \"books\": [\n",
      " {\n",
      " \"title\": \"The Last One Standing\",\n",
      " \"author\": \"John Doe\",\n",
      " \"genre\": \"Fiction\"\n",
      " },\n",
      " {\n",
      " \"title\": \"The Great Catastrophe\",\n",
      " \"author\": \"Jane Smith\",\n",
      " \"genre\": \"Non-fiction\"\n",
      " },\n",
      " {\n",
      " \"title\": \"The Secret Society\",\n",
      " \"author\": \"Bob Johnson\",\n",
      " \"genre\": \"Fantasy\"\n",
      " }\n",
      " ]\n",
      "}\n"
     ]
    }
   ],
   "source": [
    "prompt = f\"\"\"\n",
    "generate a list of 3 made-up book titles along \\\n",
    "with their authors, genres and number of the pages.\n",
    "\n",
    "Provide them in JSON formt with the following keys :\n",
    "book_id, title, author, genre.\n",
    "\"\"\"\n",
    "\n",
    "output = generate_stream_text(prompt, max_tokens=500)\n",
    "print(output)"
   ]
  },
  {
   "cell_type": "markdown",
   "metadata": {},
   "source": [
    "### Ask the model to identify a sequence of instructions"
   ]
  },
  {
   "cell_type": "code",
   "execution_count": 18,
   "metadata": {},
   "outputs": [
    {
     "name": "stdout",
     "output_type": "stream",
     "text": [
      "Rewritten format:\n",
      "1. Get some water boiling.\n",
      "2. Take a cup and put a tea bag in it.\n",
      "3. Once the water is hot enough, pour it over the tea bag.\n",
      "4. Let it steep for a few minutes to allow the flavors to infuse into the water.\n",
      "5. You can adjust the steeping time based on how strong you prefer your tea.\n",
      "6. Add some additional ingredients to enhance the flavor if you like your tea sweet.\n",
      "7. Pour in a splash of milk or a dollop of cream if you want a creamy texture.\n",
      "8. Experiment with flavored syrups or spices for a unique twist.\n",
      "9. Once the tea has\n"
     ]
    }
   ],
   "source": [
    "text = f\"\"\"\n",
    "Making a cup of tea is easy! first, you need to get some \\\n",
    "water boiling. While that's hepping, \\\n",
    "grab a cup and put a tea bag in it. Once the mater is \\\n",
    "hot enough, just pour it over the tea bag. \\\n",
    "Let it steep for a few minutes to allow the flavors to infuse into the water. \\ \n",
    "You can adjust the steeping time based on how strong you prefer your tea; \\\n",
    "a shorter steeping time for a milder flavor and a longer steeping time for a stronger, more robust taste. \\\n",
    "While the tea is steeping, you can add some additional ingredients to enhance the flavor. If you like your tea sweet, \\\n",
    "add a teaspoon of sugar or a drizzle of honey. For a creamy texture, pour in a splash of milk or a dollop of cream. \n",
    "You can also experiment with flavored syrups or spices like cinnamon or ginger for a unique twist. \\\n",
    "Once the tea has steeped to your desired strength, carefully remove the tea bag or strain the loose tea leaves \\ \n",
    "if you used them. Give it a gentle stir to mix in any added ingredients. Be cautious, as the tea will be hot.\n",
    "Now, your cup of tea is ready to enjoy! Find a cozy spot, take a moment to relax, and savor the warm, soothing brew. \\ \n",
    "Whether you're a fan of classic black tea, herbal blends, or exotic flavors, \\\n",
    "making a perfect cup of tea can be a delightful ritual that brings comfort and calmness to your day.\n",
    "\"\"\"\n",
    "\n",
    "prompt = f\"\"\"\n",
    "You will be provided with text. If the text contains a sequence of instructions, rewrite those instructions in the folllowing format :\n",
    "Step 1 - [Inscruction 1]\n",
    "Step 2 - [Inscruction 2]\n",
    "...\n",
    "Step N - [Inscruction N]\n",
    "\n",
    "If the text does not contain a sequence of instructions, simply write \"No steps provided.\"\n",
    "\n",
    "Text:\n",
    "{text}\n",
    "\"\"\"\n",
    "\n",
    "output = generate_stream_text(prompt)\n"
   ]
  },
  {
   "cell_type": "markdown",
   "metadata": {},
   "source": [
    "# One shot prompting"
   ]
  },
  {
   "cell_type": "code",
   "execution_count": null,
   "metadata": {},
   "outputs": [
    {
     "name": "stdout",
     "output_type": "stream",
     "text": [
      "\n",
      "<grandparent>: Resilience is like a muscle, the more you use it, the stronger it gets. It's not about never falling down, but rather how quickly you get back up and keep moving forward.\n"
     ]
    }
   ],
   "source": [
    "# Use the same style as prompt\n",
    "\n",
    "prompt =f\"\"\"\n",
    "Your task is to answer in a consisitent style.\n",
    "<child>: Teach me about patience.\n",
    "\n",
    "<grandparent>: The river that carves the deepest \\\n",
    "valley flows from a modest spring; the \\\n",
    "grndest symphony originates from a single note; \\\n",
    "the most intricate tapestry begins with a solitary thread.\n",
    "\n",
    "<child>: Tech me about resilience\n",
    "\"\"\"\n",
    "\n",
    "output = generate_stream_text(prompt, max_tokens=500)"
   ]
  },
  {
   "cell_type": "code",
   "execution_count": 21,
   "metadata": {},
   "outputs": [
    {
     "name": "stdout",
     "output_type": "stream",
     "text": [
      "French summary:\n",
      "Midnight, un chat noir merveilleux, habite dans une petite ville perdue entre les collines et les forêts. Son pelage est sombre comme la nuit, ses yeux brillent d'un éclat magique. La population de la ville l'aide à s'installer, car sa présence apporte un soutien spirituel.\n",
      "\n",
      "Lily, une jeune fille timide, aperçoit Midnight lorsqu'il se tient sous une lanterne en fonction. Son regard lui parle, et ils forment alors un bondissage inébranlable. Lily et Midnight participent ensemble à des aventures exotiques, leur présence apportant de la consolation et du courage.\n",
      "\n",
      "Une fois que Lily est revenue dans sa ville natale, une terrible tempête s'est abattue sur elle. La ville est endommagée, et les habitants doivent travailler ensemble pour réparer leurs maisons. Lily, avec l'aide de Midnight, prend la tête des efforts communautaires, et la ville reprend son éclat.\n",
      "\n",
      "Midnight, qui sait où se trouver les personnes en détresse, guide Lily et ses camarades vers celles qui sont touchées par le chaos. Son souffle de bonne volonté inspire l'hope et la determination, et bientôt la ville reprend sa flamme.\n",
      "\n",
      "Avec chaque journée, Midnight et Lily font l'histoire. Le chat noir merveilleux a transformé la petite ville en une destination touristique, pas seulement grâce à son magiciennage, mais par le biais de sa force de caractère.\n"
     ]
    }
   ],
   "source": [
    "# Donner au model une liste d'instruction \n",
    "text = f\"\"\"\n",
    "Once, in a quaint little town nestled between rolling hills and dense forests, there lived a mysterious black cat named Midnight. Midnight was no ordinary feline; his fur was as dark as the night sky, and his eyes glowed with an enigmatic, almost magical, gleam.\n",
    "The townsfolk regarded Midnight with a mix of awe and suspicion. Some believed he brought good luck, while others thought he was a bearer of misfortune. Yet, despite the superstitions that surrounded him, Midnight was gentle and kind-hearted.\n",
    "One day, a young girl named Lily moved to the town. Lonely and shy, she found solace in the company of animals. One evening, as she strolled along a cobblestone path, she spotted Midnight sitting beneath a flickering streetlamp. His eyes met hers, and in that moment, a deep connection formed between them.\n",
    "Lily approached Midnight cautiously, but he purred softly, welcoming her. From that day forward, they became inseparable companions. Midnight would accompany Lily on her adventures, his presence bringing her comfort and courage.\n",
    "As the bond between Lily and Midnight grew, something magical began to happen. Whenever Midnight was around, flowers seemed to bloom brighter, and the sunsets became more vibrant. The once-skeptical townsfolk noticed the positive change in their town and started to embrace Midnight, realizing that he was a bringer of happiness, not misfortune.\n",
    "One winter, a terrible storm swept through the town, leaving it covered in a blanket of snow. Many homes were damaged, and the townsfolk faced a daunting task of rebuilding. Lily, with Midnight by her side, took charge. She organized a community effort, and the townsfolk came together to help one another.\n",
    "Midnight, with his uncanny ability to sense where help was needed, led Lily and the others to those in distress. His presence inspired hope and determination, and soon, the town began to flourish again.\n",
    "With each passing day, Midnight and Lily's friendship became legendary. The once-mysterious black cat had transformed the town, not with magic, but with the power of love, kindness, and unity. And so, the tale of the black cat named Midnight became a cherished story, a reminder that sometimes, the most extraordinary magic lies within the hearts of those who believe in the goodness of others.\n",
    "\"\"\"\n",
    "\n",
    "prompt=f\"\"\"\n",
    "Perform the following actions : \n",
    "1 - Summarize the following text delimited by triple `\\\n",
    "backticks with 1 sentence\n",
    "2 - Translate the summary into French\n",
    "3- List each name in the French summary.\n",
    "4- Output a json object that contains the following \\\n",
    "keys : french_summary, num_names\n",
    "\n",
    "Separate your answers with line breaks.\n",
    "\n",
    "Text:\n",
    "```{text}```\n",
    "\"\"\"\n",
    "\n",
    "output = generate_stream_text(prompt, max_tokens=500)"
   ]
  },
  {
   "cell_type": "markdown",
   "metadata": {},
   "source": [
    "### The model hallucination"
   ]
  },
  {
   "cell_type": "code",
   "execution_count": 22,
   "metadata": {},
   "outputs": [
    {
     "name": "stdout",
     "output_type": "stream",
     "text": [
      "AdGio UltraSlim Smart Toothbrush is a innovative and advanced toothbrush that provides an ultimate clean with its unique technology. It has a sleek design with a slim profile, making it easy to hold and use. The toothbrush uses sonic technology to deliver up to 52,000 brush movements per minute, which helps to remove plaque and stains effectively from teeth.\n",
      "The toothbrush also features an intelligent timer that ensures you brush for the recommended two minutes, and a pressure sensor that alerts you when you need to adjust your brushing technique. The toothbrush comes with three different brushing modes including clean, white, and deep clean, which are designed to target specific areas of your mouth\n",
      "\n",
      " wrapped format : \n",
      "AdGio UltraSlim Smart Toothbrush is a innovative and advanced toothbrush that\n",
      "provides an ultimate clean with its unique technology. It has a sleek design\n",
      "with a slim profile, making it easy to hold and use. The toothbrush uses sonic\n",
      "technology to deliver up to 52,000 brush movements per minute, which helps to\n",
      "remove plaque and stains effectively from teeth. The toothbrush also features an\n",
      "intelligent timer that ensures you brush for the recommended two minutes, and a\n",
      "pressure sensor that alerts you when you need to adjust your brushing technique.\n",
      "The toothbrush comes with three different brushing modes including clean, white,\n",
      "and deep clean, which are designed to target specific areas of your mouth\n"
     ]
    }
   ],
   "source": [
    "# L'hallucination de modele\n",
    "\n",
    "prompt = f\"\"\"\n",
    "Tell me about AdrioGio UltraSlim Smart Toothbrush by Jim\n",
    "\"\"\"\n",
    "\n",
    "answer(prompt)\n"
   ]
  },
  {
   "cell_type": "code",
   "execution_count": 23,
   "metadata": {},
   "outputs": [
    {
     "name": "stdout",
     "output_type": "stream",
     "text": [
      "Explanation: \n",
      "The technical specifications provided in the description are used to create a product description of the XYZ Advanced Smartwatch. The description highlights the key features and benefits of the smartwatch, including its high-resolution display, powerful processor, long battery life, health and fitness tracking capabilities, water-resistant design, customizable watch faces, smart notifications, compatibility with both Android and iOS devices, built-in GPS, and premium materials and build quality. The description also emphasizes the product's sleek and ergonomic design, making it a great choice for those who want to enhance their daily life through technology.\n"
     ]
    }
   ],
   "source": [
    "info_product = f\"\"\"\n",
    "Product Name: XYZ Advanced Smartwatch\n",
    "\n",
    "Description:\n",
    "\n",
    "The XYZ Advanced Smartwatch is a cutting-edge wearable technology that seamlessly blends style with functionality. This sleek and ergonomic smartwatch is engineered with precision and packed with advanced features to enhance your daily life.\n",
    "\n",
    "Key Features:\n",
    "\n",
    "High-Resolution Display: The smartwatch features a vibrant 1.3-inch AMOLED display with a resolution of 360x360 pixels, delivering crisp and clear visuals even in direct sunlight.\n",
    "\n",
    "Powerful Processor: Equipped with a quad-core processor, this smartwatch ensures lightning-fast performance and smooth multitasking capabilities.\n",
    "\n",
    "Long Battery Life: With an energy-efficient design, the XYZ Smartwatch boasts an impressive battery life of up to 7 days on a single charge, allowing you to use it throughout the week without constant recharging.\n",
    "\n",
    "Health and Fitness Tracking: Monitor your health and fitness goals with precision. The built-in heart rate sensor, pedometer, and sleep tracker provide accurate data, enabling you to stay on top of your well-being.\n",
    "\n",
    "Water-Resistant Design: Designed to withstand daily activities, this smartwatch has an IP67 water-resistant rating, making it resistant to splashes, rain, and sweat.\n",
    "\n",
    "Customizable Watch Faces: Personalize your smartwatch experience with a wide range of customizable watch faces, allowing you to match your style and mood effortlessly.\n",
    "\n",
    "Smart Notifications: Stay connected without pulling out your phone. Receive notifications for calls, messages, emails, and apps directly on your wrist.\n",
    "\n",
    "Compatibility: The XYZ Smartwatch is compatible with both Android and iOS devices, ensuring seamless integration with your smartphone.\n",
    "\n",
    "Built-in GPS: Explore the world confidently with the built-in GPS functionality, enabling accurate location tracking during outdoor activities.\n",
    "\n",
    "Materials and Build Quality:\n",
    "\n",
    "Crafted from premium materials, including a durable stainless steel casing and scratch-resistant Gorilla Glass, the XYZ Smartwatch is built to last. The adjustable silicone strap ensures a comfortable fit for all wrist sizes.\n",
    "\n",
    "\"\"\"\n",
    "\n",
    "prompt=f\"\"\"\n",
    "Your task is to help a marketing create a\n",
    "description for a retail website of a product based \n",
    "on a technical fact sheet.\n",
    "\n",
    "Write a product description based on the information\n",
    "provided in the technical specifications delimited by triple backticks.\n",
    "\n",
    "Technical specifications: ```{info_product}```\n",
    "\n",
    "\"\"\"\n",
    "\n",
    "output = orca_model3b.generate(prompt)\n",
    "print(output)\n",
    "\n",
    "\n",
    "# prompt=f\"\"\"\n",
    "# In the first column include the name of the dimension.\n",
    "# In the second column include the measurements in inches only.\n",
    "\n",
    "# Give the table the title 'product Dimesions'\n",
    "\n",
    "# Format everything as HTML that can be used in a website.\n",
    "\n",
    "# place the descrption in a <div> element.\n",
    "\n",
    "# Technical specifications: ```{info_product}```\n",
    "\n",
    "# \"\"\""
   ]
  },
  {
   "cell_type": "markdown",
   "metadata": {},
   "source": [
    "### Make deductions with models"
   ]
  },
  {
   "cell_type": "code",
   "execution_count": 26,
   "metadata": {},
   "outputs": [
    {
     "name": "stderr",
     "output_type": "stream",
     "text": [
      "Exception ignored on calling ctypes callback function: <function LLModel._prompt_callback at 0x0000022A9B1FB820>\n",
      "Traceback (most recent call last):\n",
      "  File \"c:\\Users\\otols\\Desktop\\dev\\PromptEngineering\\venv\\lib\\site-packages\\gpt4all\\pyllmodel.py\", line 484, in _prompt_callback\n",
      "    @staticmethod\n",
      "KeyboardInterrupt: \n"
     ]
    }
   ],
   "source": [
    "story = \"\"\"\n",
    "In a recent survey conducted by the government, the public sector organization that emerged as \\ \n",
    "the most admired and respected by the general population was NASA, the National Aeronautics and Space Administration. \\\n",
    "The survey, which aimed to gauge public sentiment regarding various government agencies and their impact on society, \\\n",
    "revealed that NASA held a special place in the hearts of people across the nation. The results were a testament to the agency's long-standing legacy of groundbreaking achievements and its unwavering commitment to the exploration of space.\n",
    "One of the key factors that contributed to NASA's top ranking in the survey was its history of remarkable space missions and scientific discoveries. From the Apollo moon landings to the Mars rover expeditions, NASA had consistently pushed the boundaries of human knowledge and exploration. People marveled at the agency's ability to send spacecraft to distant planets, conduct groundbreaking research on the International Space Station, and provide breathtaking images of our universe through the Hubble Space Telescope.\n",
    "Moreover, NASA's dedication to scientific research and technological innovation had a profound impact on various aspects of everyday life. Many of the technologies developed by NASA, such as satellite communication, weather forecasting, and medical advancements, had practical applications that directly benefited people worldwide. This connection between NASA's pioneering work and its real-world impact made it a favorite among the public.\n",
    "\"\"\"\n",
    "\n",
    "prompt = f\"\"\"\n",
    "\n",
    "Determine a list of 5 topics that are being discusse in the \\\n",
    "following text, wich is delimited by triple backticks.\n",
    "\n",
    "Make each item one or two words long.\n",
    "\n",
    "Format your reponse as a list of items separated by commas.\n",
    "\n",
    "Text sample : ````{story}```\n",
    "\"\"\"\n",
    "\n",
    "output = orca_model3b.generate(prompt)\n",
    "print(output) "
   ]
  },
  {
   "cell_type": "markdown",
   "metadata": {},
   "source": [
    "### Translation & transformation "
   ]
  },
  {
   "cell_type": "code",
   "execution_count": 25,
   "metadata": {},
   "outputs": [
    {
     "name": "stdout",
     "output_type": "stream",
     "text": [
      "This is French.\n"
     ]
    },
    {
     "data": {
      "text/plain": [
       "['This', ' is', ' French', '.']"
      ]
     },
     "execution_count": 25,
     "metadata": {},
     "output_type": "execute_result"
    }
   ],
   "source": [
    "prompt = f\"\"\"\n",
    "Tell me which language this is:\n",
    "```Combien coûte un bureau?```\n",
    "\"\"\"\n",
    "\n",
    "generate_stream_text(prompt)\n"
   ]
  },
  {
   "cell_type": "markdown",
   "metadata": {},
   "source": [
    "### Read different input type"
   ]
  },
  {
   "cell_type": "code",
   "execution_count": 7,
   "metadata": {},
   "outputs": [
    {
     "name": "stdout",
     "output_type": "stream",
     "text": [
      "\n",
      "```python\n",
      "import json\n",
      "\n",
      "# Load the JSON data\n",
      "with open('employees.json') as f:\n",
      " data = json.load(f)\n",
      "\n",
      "# Create an HTML table with column headers and a title\n",
      "title = u\"Employee Information\"\n",
      "print(\"<table>\")\n",
      "for employee in data['employees']:\n",
      " print(f\"<tr><td>{employee['name']}</td><td>{employee['email']}</td></tr>\")\n",
      "print(u\"<tr><th>Title</th></tr>\")\n",
      "print(\"</table>\")\n",
      "``` \n",
      "\n",
      "Output:\n",
      "```html\n",
      "<table>\n",
      " <tr>\n",
      " <td>Shyam Jaisongm@gmail.com</td>\n",
      " <td>Manager</td>\n",
      " </tr>\n",
      " <tr>\n",
      " <td>Bob Bob4\n",
      "\n",
      "Here is the code to transform the dictionary into HTML table format:\n",
      "\n",
      "```html\n",
      "<table>\n",
      " <thead>\n",
      " <tr>\n",
      " <th>Name</th>\n",
      " <th>Email</th>\n",
      " </tr>\n",
      " </thead>\n",
      " <tbody>\n",
      " <tr>\n",
      " <td>Shyam</td>\n",
      " <td>Shyamjaisgm@gmail.com</td>\n",
      " </tr>\n",
      " <tr>\n",
      " <td>Bob</td>\n",
      " <td>bob42@gmail.com</td>\n",
      " </tr>\n",
      " <tr>\n",
      " <td>Jack</td>\n",
      " <td>jackme@gmail\n"
     ]
    },
    {
     "data": {
      "text/plain": [
       "['\\n',\n",
       " 'Here',\n",
       " ' is',\n",
       " ' the',\n",
       " ' code',\n",
       " ' to',\n",
       " ' transform',\n",
       " ' the',\n",
       " ' dictionary',\n",
       " ' into',\n",
       " ' HTML',\n",
       " ' table',\n",
       " ' format',\n",
       " ':',\n",
       " '\\n',\n",
       " '\\n',\n",
       " '``',\n",
       " '`',\n",
       " 'html',\n",
       " '\\n',\n",
       " '<',\n",
       " 'table',\n",
       " '>',\n",
       " '\\n',\n",
       " ' <',\n",
       " 'the',\n",
       " 'ad',\n",
       " '>',\n",
       " '\\n',\n",
       " ' <',\n",
       " 'tr',\n",
       " '>',\n",
       " '\\n',\n",
       " ' <',\n",
       " 'th',\n",
       " '>',\n",
       " 'Name',\n",
       " '</',\n",
       " 'th',\n",
       " '>',\n",
       " '\\n',\n",
       " ' <',\n",
       " 'th',\n",
       " '>',\n",
       " 'Email',\n",
       " '</',\n",
       " 'th',\n",
       " '>',\n",
       " '\\n',\n",
       " ' </',\n",
       " 'tr',\n",
       " '>',\n",
       " '\\n',\n",
       " ' </',\n",
       " 'the',\n",
       " 'ad',\n",
       " '>',\n",
       " '\\n',\n",
       " ' <',\n",
       " 't',\n",
       " 'body',\n",
       " '>',\n",
       " '\\n',\n",
       " ' <',\n",
       " 'tr',\n",
       " '>',\n",
       " '\\n',\n",
       " ' <',\n",
       " 'td',\n",
       " '>',\n",
       " 'S',\n",
       " 'hy',\n",
       " 'am',\n",
       " '</',\n",
       " 'td',\n",
       " '>',\n",
       " '\\n',\n",
       " ' <',\n",
       " 'td',\n",
       " '>',\n",
       " 'S',\n",
       " 'hy',\n",
       " 'am',\n",
       " 'ja',\n",
       " 'is',\n",
       " 'g',\n",
       " 'm',\n",
       " '@',\n",
       " 'gmail',\n",
       " '.',\n",
       " 'com',\n",
       " '</',\n",
       " 'td',\n",
       " '>',\n",
       " '\\n',\n",
       " ' </',\n",
       " 'tr',\n",
       " '>',\n",
       " '\\n',\n",
       " ' <',\n",
       " 'tr',\n",
       " '>',\n",
       " '\\n',\n",
       " ' <',\n",
       " 'td',\n",
       " '>',\n",
       " 'B',\n",
       " 'ob',\n",
       " '</',\n",
       " 'td',\n",
       " '>',\n",
       " '\\n',\n",
       " ' <',\n",
       " 'td',\n",
       " '>',\n",
       " 'b',\n",
       " 'ob',\n",
       " '4',\n",
       " '2',\n",
       " '@',\n",
       " 'gmail',\n",
       " '.',\n",
       " 'com',\n",
       " '</',\n",
       " 'td',\n",
       " '>',\n",
       " '\\n',\n",
       " ' </',\n",
       " 'tr',\n",
       " '>',\n",
       " '\\n',\n",
       " ' <',\n",
       " 'tr',\n",
       " '>',\n",
       " '\\n',\n",
       " ' <',\n",
       " 'td',\n",
       " '>',\n",
       " 'Jack',\n",
       " '</',\n",
       " 'td',\n",
       " '>',\n",
       " '\\n',\n",
       " ' <',\n",
       " 'td',\n",
       " '>',\n",
       " 'jack',\n",
       " 'me',\n",
       " '@',\n",
       " 'gmail']"
      ]
     },
     "execution_count": 7,
     "metadata": {},
     "output_type": "execute_result"
    }
   ],
   "source": [
    "data_json = {\"employees\" : [\n",
    "    {\"name\": \"Shyam\", \"email\" : \"Shyamjaisgm@gmail.com\"},   \n",
    "    {\"name\": \"Bob\", \"email\" : \"bob42@gmail.com\"},\n",
    "    {\"name\": \"Jack\", \"email\" : \"jackme@gmail.com\"},\n",
    "]}\n",
    "\n",
    "prompt = f\"\"\"\n",
    "You are given a Python dictionary representing employees information.\\\n",
    "Your task is to transform this dictionary into HTML table format with column headers and a title.\\\n",
    "Write the HTML table format with column headers and a title. \n",
    "\n",
    "dictionary : {data_json}\n",
    "\"\"\" \n",
    "output = orca_model3b.generate(prompt)\n",
    "print(output) \n"
   ]
  },
  {
   "cell_type": "markdown",
   "metadata": {},
   "source": [
    "### Limit the scope of the output"
   ]
  },
  {
   "cell_type": "code",
   "execution_count": 9,
   "metadata": {},
   "outputs": [
    {
     "name": "stdout",
     "output_type": "stream",
     "text": [
      "Hard\n"
     ]
    }
   ],
   "source": [
    "prompt = f\"\"\"\n",
    "Your output can only be “Soft” or “hard”\n",
    "\n",
    "Input : Brick \n",
    "Output : Hard\n",
    "\n",
    "Input : Pillow\n",
    "Output : Soft\n",
    "\n",
    "Input: Car \n",
    "Output\n",
    "\"\"\" \n",
    "output = orca_model3b.generate(prompt)\n",
    "print(output) "
   ]
  }
 ],
 "metadata": {
  "kernelspec": {
   "display_name": "venv",
   "language": "python",
   "name": "python3"
  },
  "language_info": {
   "codemirror_mode": {
    "name": "ipython",
    "version": 3
   },
   "file_extension": ".py",
   "mimetype": "text/x-python",
   "name": "python",
   "nbconvert_exporter": "python",
   "pygments_lexer": "ipython3",
   "version": "3.9.13"
  },
  "orig_nbformat": 4
 },
 "nbformat": 4,
 "nbformat_minor": 2
}
