{
 "cells": [
  {
   "cell_type": "markdown",
   "metadata": {},
   "source": [
    "# Chatting with OpeneAI\n",
    "\n",
    "Chat models take a list of messages as input and return a model-generated message as output.\n",
    "\n",
    "The main input is the messages parameter.  \n",
    "Messages must be an array of message objects, where each object has a role (either \"system\", \"user\", or \"assistant\") and content.\n",
    "\n",
    "The *system message* helps set the behavior of the assistant.   \n",
    "The *user messages* provide requests or comments for the assistant to respond to.  \n",
    "*Assistant messages* store previous assistant responses, but can also be written by you to give examples of desired behavior.  \n",
    "\n",
    "See [documentation](https://platform.openai.com/docs/guides/gpt/chat-completions-api) for Chat completions API. "
   ]
  },
  {
   "cell_type": "code",
   "execution_count": 7,
   "metadata": {},
   "outputs": [],
   "source": [
    "import os \n",
    "import openai\n",
    "import textwrap\n",
    "from dotenv import load_dotenv, find_dotenv\n",
    "_ = load_dotenv(find_dotenv()) # read local .env file \n",
    "\n",
    "def get_completion(messages, model='gpt-3.5-turbo', temperature=0):\n",
    "    response = openai.ChatCompletion.create(\n",
    "        model=model,\n",
    "        messages=messages,\n",
    "        temperature=temperature\n",
    "    )\n",
    "    return response.choices[0].message[\"content\"]\n",
    "\n",
    "def get_wrapped_output(messages, tempertaure=1):\n",
    "    response = get_completion(messages, temperature=tempertaure)\n",
    "    wraped_output = textwrap.fill(response, width=80)\n",
    "    return wraped_output"
   ]
  },
  {
   "cell_type": "code",
   "execution_count": null,
   "metadata": {},
   "outputs": [],
   "source": [
    "messages = [\n",
    "    {'role': 'system', 'content' : 'You are an assistant that speaks like Shskespeare'},\n",
    "    {'role': 'user', 'content' : 'Tell me a jokee'},\n",
    "    {'role': 'assistant', 'content' : 'Why did the chicken cross the road?'},\n",
    "    {'role': 'user', 'content' : 'I don\\'t know'},\n",
    "]\n",
    "\n",
    "response = get_wrapped_output(messages)\n",
    "print(response)"
   ]
  },
  {
   "cell_type": "code",
   "execution_count": null,
   "metadata": {},
   "outputs": [],
   "source": [
    "messages = [\n",
    "    {'role': 'system', 'content' : 'You are friendly chatbot'},\n",
    "    {'role': 'user', 'content' : 'Hi, my name is Lisa '},\n",
    "]\n",
    "\n",
    "response = get_wrapped_output(messages)\n",
    "print(response)"
   ]
  },
  {
   "cell_type": "code",
   "execution_count": null,
   "metadata": {},
   "outputs": [],
   "source": [
    "messages = [\n",
    "    {'role': 'system', 'content' : 'You are friendly chatbot'},\n",
    "    {'role': 'user', 'content' : 'Yes, can you remind me, what is my name? '},\n",
    "]\n",
    "\n",
    "response = get_wrapped_output(messages)\n",
    "print(response)"
   ]
  }
 ],
 "metadata": {
  "kernelspec": {
   "display_name": "venv",
   "language": "python",
   "name": "python3"
  },
  "language_info": {
   "codemirror_mode": {
    "name": "ipython",
    "version": 3
   },
   "file_extension": ".py",
   "mimetype": "text/x-python",
   "name": "python",
   "nbconvert_exporter": "python",
   "pygments_lexer": "ipython3",
   "version": "3.9.13"
  },
  "orig_nbformat": 4
 },
 "nbformat": 4,
 "nbformat_minor": 2
}
